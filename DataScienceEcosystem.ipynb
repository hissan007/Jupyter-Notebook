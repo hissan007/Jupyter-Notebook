{
  "metadata": {
    "kernelspec": {
      "name": "python",
      "display_name": "Python (Pyodide)",
      "language": "python"
    },
    "language_info": {
      "codemirror_mode": {
        "name": "python",
        "version": 3
      },
      "file_extension": ".py",
      "mimetype": "text/x-python",
      "name": "python",
      "nbconvert_exporter": "python",
      "pygments_lexer": "ipython3",
      "version": "3.8"
    }
  },
  "nbformat_minor": 4,
  "nbformat": 4,
  "cells": [
    {
      "cell_type": "markdown",
      "source": "## Exercise 1: Create a Jupyter Notebook\n",
      "metadata": {}
    },
    {
      "cell_type": "markdown",
      "source": "## Exercise 2: Create markdown cell with title of the notebook\n# Data Science Tools and Ecosystem",
      "metadata": {}
    },
    {
      "cell_type": "markdown",
      "source": "## Exercise 3 - Create a markdown cell for an introduction\nIn this notebook, Data Science Tools and Ecosystem are summarized.",
      "metadata": {}
    },
    {
      "cell_type": "markdown",
      "source": "**Objectives:**\n- Python\n- R\n- Julia",
      "metadata": {}
    },
    {
      "cell_type": "markdown",
      "source": "## Exercise 4 - Create a markdown cell to list data science languages\nSome of the popular languages that Data Scientists use are:\n1. Python\n2. R\n3. Julia",
      "metadata": {}
    },
    {
      "cell_type": "markdown",
      "source": "# Exercise 5 - Create a markdown cell to list data science libraries\nSome of the commonly used libraries used by Data Scientists include:\n1. Matplotlib\n2. NumPy\n3. Pandas",
      "metadata": {}
    },
    {
      "cell_type": "markdown",
      "source": "## Exercise 6 - Create a markdown cell with a table of Data Science tools\n| Data Science Tools |\n| --- |\n| Jupyter Notebooks |\n| Zeppelin Notebooks |\n| R Studio |",
      "metadata": {}
    },
    {
      "cell_type": "markdown",
      "source": "## Exercise 7 - Create a markdown cell introducing arithmetic expression examples\n### Below are a few examples of evaluating arithmetic expressions in Python",
      "metadata": {}
    },
    {
      "cell_type": "code",
      "source": "## Exercise 8 - Create a code cell to multiply and add numbers\n\" This a simple arithmetic expression to mutiply then add integers \"\n(3*4)+5",
      "metadata": {
        "trusted": true
      },
      "outputs": [
        {
          "execution_count": 2,
          "output_type": "execute_result",
          "data": {
            "text/plain": "17"
          },
          "metadata": {}
        }
      ],
      "execution_count": 2
    },
    {
      "cell_type": "code",
      "source": "# Exercise 9 - Create a code cell to convert minutes to hours\n\" This will convert 200 minutes to hours by diving by 60 \"\n200/60",
      "metadata": {
        "trusted": true
      },
      "outputs": [
        {
          "execution_count": 3,
          "output_type": "execute_result",
          "data": {
            "text/plain": "3.3333333333333335"
          },
          "metadata": {}
        }
      ],
      "execution_count": 3
    },
    {
      "cell_type": "markdown",
      "source": "## Exercise 11 - Create a markdown cell to indicate the Author's name\n## Author\nHissan Waqar",
      "metadata": {}
    }
  ]
}